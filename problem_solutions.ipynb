{
 "cells": [
  {
   "cell_type": "code",
   "execution_count": null,
   "metadata": {},
   "outputs": [],
   "source": [
    "# CODE_JAM 2021 Reversort\n",
    "\n",
    "def rever_sort(L : list) -> int:\n",
    "    L_copy = L[:]\n",
    "    flip_costs = 0\n",
    "\n",
    "    for i in range(len(L)-1):\n",
    "        list_start = L_copy[:i]\n",
    "        list_end = L_copy[i:]\n",
    "        min_index = list_end.index(min(list_end))\n",
    "        flip_costs += min_index + 1\n",
    "        L_copy = list_start + list(reversed(list_end[:min_index+1])) + list_end[min_index+1:]\n",
    "    return flip_costs"
   ]
  },
  {
   "cell_type": "code",
   "execution_count": null,
   "metadata": {},
   "outputs": [],
   "source": []
  }
 ],
 "metadata": {
  "language_info": {
   "name": "python"
  },
  "orig_nbformat": 4
 },
 "nbformat": 4,
 "nbformat_minor": 2
}
