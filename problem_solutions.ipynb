{
 "cells": [
  {
   "cell_type": "code",
   "execution_count": null,
   "metadata": {},
   "outputs": [],
   "source": [
    "# CODE_JAM 2021 Reversort\n",
    "\n",
    "def rever_sort(L : list) -> int:\n",
    "    L_copy = L[:]\n",
    "    flip_costs = 0\n",
    "\n",
    "    for i in range(len(L)-1):\n",
    "        list_start = L_copy[:i]\n",
    "        list_end = L_copy[i:]\n",
    "        min_index = list_end.index(min(list_end))\n",
    "        flip_costs += min_index + 1\n",
    "        L_copy = list_start + list(reversed(list_end[:min_index+1])) + list_end[min_index+1:]\n",
    "        # print(L_copy)\n",
    "    return flip_costs\n",
    "    \n",
    "T = int(input())\n",
    "\n",
    "for i in range(T):\n",
    "    N = int(input())\n",
    "    L = list(map(int, input().split()))\n",
    "    print(f'Case #{i+1}: {rever_sort(L)}')"
   ]
  },
  {
   "cell_type": "code",
   "execution_count": null,
   "metadata": {},
   "outputs": [],
   "source": [
    "# Moons and Umbrellas\n",
    "# No Extra Credit\n",
    "\n",
    "T = int(input())\n",
    "\n",
    "for _ in range(T):\n",
    "    input_info = input().split(' ')\n",
    "    CJ_cost = int(input_info[0])\n",
    "    JC_cost = int(input_info[1])\n",
    "    S = [x for x in list(input_info[2]) if x != '?']\n",
    "    \n",
    "    total_cost = 0\n",
    "    \n",
    "    for i in range(len(S)-1):\n",
    "        if S[i] != S[i+1]:\n",
    "            if S[i] == 'C':\n",
    "                total_cost += CJ_cost\n",
    "            else:\n",
    "                total_cost += JC_cost\n",
    "    \n",
    "    print(f'Case #{_+1}: {total_cost}')"
   ]
  }
 ],
 "metadata": {
  "language_info": {
   "name": "python"
  },
  "orig_nbformat": 4
 },
 "nbformat": 4,
 "nbformat_minor": 2
}
